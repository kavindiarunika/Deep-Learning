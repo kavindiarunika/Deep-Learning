{
  "nbformat": 4,
  "nbformat_minor": 0,
  "metadata": {
    "colab": {
      "provenance": [],
      "authorship_tag": "ABX9TyPG7/hRwsq08K/juwBlagwz",
      "include_colab_link": true
    },
    "kernelspec": {
      "name": "python3",
      "display_name": "Python 3"
    },
    "language_info": {
      "name": "python"
    }
  },
  "cells": [
    {
      "cell_type": "markdown",
      "metadata": {
        "id": "view-in-github",
        "colab_type": "text"
      },
      "source": [
        "<a href=\"https://colab.research.google.com/github/kavindiarunika/Deep-Learning/blob/main/reproducbility.ipynb\" target=\"_parent\"><img src=\"https://colab.research.google.com/assets/colab-badge.svg\" alt=\"Open In Colab\"/></a>"
      ]
    },
    {
      "cell_type": "code",
      "execution_count": 1,
      "metadata": {
        "id": "RUo2PB9fLYTf"
      },
      "outputs": [],
      "source": [
        "import torch"
      ]
    },
    {
      "cell_type": "code",
      "source": [],
      "metadata": {
        "id": "8xtpVOkiLf9a"
      },
      "execution_count": null,
      "outputs": []
    },
    {
      "cell_type": "markdown",
      "source": [
        "# try to take randome out of number"
      ],
      "metadata": {
        "id": "gPDSe08ILjbL"
      }
    },
    {
      "cell_type": "code",
      "source": [
        "tensor_A=torch.rand(3,3)\n",
        "tensor_B=torch.rand(3,3)"
      ],
      "metadata": {
        "id": "9ZoMG3-rLn7t"
      },
      "execution_count": 3,
      "outputs": []
    },
    {
      "cell_type": "code",
      "source": [
        "print(tensor_A)\n",
        "print(tensor_B)"
      ],
      "metadata": {
        "colab": {
          "base_uri": "https://localhost:8080/"
        },
        "id": "-d407xW5LsIx",
        "outputId": "9ebce888-df2a-479e-a6b1-5269f26a615c"
      },
      "execution_count": 4,
      "outputs": [
        {
          "output_type": "stream",
          "name": "stdout",
          "text": [
            "tensor([[0.6526, 0.3815, 0.0011],\n",
            "        [0.7678, 0.0163, 0.8447],\n",
            "        [0.9827, 0.9294, 0.9603]])\n",
            "tensor([[0.2892, 0.5137, 0.7037],\n",
            "        [0.7252, 0.1271, 0.0785],\n",
            "        [0.1566, 0.6689, 0.4886]])\n"
          ]
        }
      ]
    },
    {
      "cell_type": "code",
      "source": [
        "print(tensor_B == tensor_A)"
      ],
      "metadata": {
        "colab": {
          "base_uri": "https://localhost:8080/"
        },
        "id": "9H0FATGlMYla",
        "outputId": "e713c938-2e0e-45e9-99ca-16d5d0c3f586"
      },
      "execution_count": 5,
      "outputs": [
        {
          "output_type": "stream",
          "name": "stdout",
          "text": [
            "tensor([[False, False, False],\n",
            "        [False, False, False],\n",
            "        [False, False, False]])\n"
          ]
        }
      ]
    },
    {
      "cell_type": "code",
      "source": [
        "import torch"
      ],
      "metadata": {
        "id": "QNjgi4UEMigP"
      },
      "execution_count": 6,
      "outputs": []
    },
    {
      "cell_type": "code",
      "source": [
        "random_seed = 42\n",
        "torch.manual_seed(random_seed)\n",
        "\n",
        "random_tensor_c = torch.rand(3,3)\n",
        "torch.manual_seed(random_seed)\n",
        "random_tensor_D = torch.rand(3,3)\n",
        "print(random_tensor_c)\n",
        "print(random_tensor_D)\n",
        "print(random_tensor_D == random_tensor_c)"
      ],
      "metadata": {
        "colab": {
          "base_uri": "https://localhost:8080/"
        },
        "id": "T4lIIYYxMwj5",
        "outputId": "a7eace44-0ea1-4ca1-d6f1-499070105abf"
      },
      "execution_count": 7,
      "outputs": [
        {
          "output_type": "stream",
          "name": "stdout",
          "text": [
            "tensor([[0.8823, 0.9150, 0.3829],\n",
            "        [0.9593, 0.3904, 0.6009],\n",
            "        [0.2566, 0.7936, 0.9408]])\n",
            "tensor([[0.8823, 0.9150, 0.3829],\n",
            "        [0.9593, 0.3904, 0.6009],\n",
            "        [0.2566, 0.7936, 0.9408]])\n",
            "tensor([[True, True, True],\n",
            "        [True, True, True],\n",
            "        [True, True, True]])\n"
          ]
        }
      ]
    },
    {
      "cell_type": "code",
      "source": [],
      "metadata": {
        "id": "idAyr1npNd-z"
      },
      "execution_count": null,
      "outputs": []
    },
    {
      "cell_type": "markdown",
      "source": [
        "### extra resource for reproducbility"
      ],
      "metadata": {
        "id": "zkN3tOhCN5PU"
      }
    },
    {
      "cell_type": "code",
      "source": [],
      "metadata": {
        "id": "MJx16sqzN_G0"
      },
      "execution_count": null,
      "outputs": []
    }
  ]
}