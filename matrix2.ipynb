{
  "nbformat": 4,
  "nbformat_minor": 0,
  "metadata": {
    "colab": {
      "provenance": [],
      "authorship_tag": "ABX9TyPGwmGJEwp0BYA4Vw5LNtcM",
      "include_colab_link": true
    },
    "kernelspec": {
      "name": "python3",
      "display_name": "Python 3"
    },
    "language_info": {
      "name": "python"
    }
  },
  "cells": [
    {
      "cell_type": "markdown",
      "metadata": {
        "id": "view-in-github",
        "colab_type": "text"
      },
      "source": [
        "<a href=\"https://colab.research.google.com/github/kavindiarunika/Deep-Learning/blob/main/matrix2.ipynb\" target=\"_parent\"><img src=\"https://colab.research.google.com/assets/colab-badge.svg\" alt=\"Open In Colab\"/></a>"
      ]
    },
    {
      "cell_type": "code",
      "execution_count": 1,
      "metadata": {
        "id": "TOZd7V4jcBCh"
      },
      "outputs": [],
      "source": [
        "import torch"
      ]
    },
    {
      "cell_type": "code",
      "source": [
        "x=torch.arange(1.,10.)\n",
        "x,x.shape"
      ],
      "metadata": {
        "colab": {
          "base_uri": "https://localhost:8080/"
        },
        "id": "i_kGfasScJ3l",
        "outputId": "7f039fff-6039-442f-ad3b-904c30afce4a"
      },
      "execution_count": 2,
      "outputs": [
        {
          "output_type": "execute_result",
          "data": {
            "text/plain": [
              "(tensor([1., 2., 3., 4., 5., 6., 7., 8., 9.]), torch.Size([9]))"
            ]
          },
          "metadata": {},
          "execution_count": 2
        }
      ]
    },
    {
      "cell_type": "code",
      "source": [
        "x_reshaped = x.reshape(9,1)"
      ],
      "metadata": {
        "id": "6HN7QosscQgd"
      },
      "execution_count": 3,
      "outputs": []
    },
    {
      "cell_type": "code",
      "source": [
        "x_reshaped"
      ],
      "metadata": {
        "colab": {
          "base_uri": "https://localhost:8080/"
        },
        "id": "3K0EnyhdcWXN",
        "outputId": "272cc359-f548-4b65-feaa-6fe981faae25"
      },
      "execution_count": 4,
      "outputs": [
        {
          "output_type": "execute_result",
          "data": {
            "text/plain": [
              "tensor([[1.],\n",
              "        [2.],\n",
              "        [3.],\n",
              "        [4.],\n",
              "        [5.],\n",
              "        [6.],\n",
              "        [7.],\n",
              "        [8.],\n",
              "        [9.]])"
            ]
          },
          "metadata": {},
          "execution_count": 4
        }
      ]
    },
    {
      "cell_type": "code",
      "source": [
        "#change the view\n",
        "z=x.view(1,9)\n",
        "z[:,0]=5\n",
        "z,x"
      ],
      "metadata": {
        "colab": {
          "base_uri": "https://localhost:8080/"
        },
        "id": "5wsTYDAkcq5B",
        "outputId": "1084293c-2d17-455e-8401-6fd4a9ac6117"
      },
      "execution_count": 5,
      "outputs": [
        {
          "output_type": "execute_result",
          "data": {
            "text/plain": [
              "(tensor([[5., 2., 3., 4., 5., 6., 7., 8., 9.]]),\n",
              " tensor([5., 2., 3., 4., 5., 6., 7., 8., 9.]))"
            ]
          },
          "metadata": {},
          "execution_count": 5
        }
      ]
    },
    {
      "cell_type": "code",
      "source": [
        "x_stack = torch.stack([x,x,x,x],dim=1)\n",
        "x_stack"
      ],
      "metadata": {
        "colab": {
          "base_uri": "https://localhost:8080/"
        },
        "id": "PrhCD2W_dkGc",
        "outputId": "1b16b699-3fc0-468e-f5bf-aca999374439"
      },
      "execution_count": 6,
      "outputs": [
        {
          "output_type": "execute_result",
          "data": {
            "text/plain": [
              "tensor([[5., 5., 5., 5.],\n",
              "        [2., 2., 2., 2.],\n",
              "        [3., 3., 3., 3.],\n",
              "        [4., 4., 4., 4.],\n",
              "        [5., 5., 5., 5.],\n",
              "        [6., 6., 6., 6.],\n",
              "        [7., 7., 7., 7.],\n",
              "        [8., 8., 8., 8.],\n",
              "        [9., 9., 9., 9.]])"
            ]
          },
          "metadata": {},
          "execution_count": 6
        }
      ]
    },
    {
      "cell_type": "code",
      "source": [
        "X_SQUEEZED =x_reshaped.squeeze(dim=0)\n",
        "X_SQUEEZED"
      ],
      "metadata": {
        "colab": {
          "base_uri": "https://localhost:8080/"
        },
        "id": "NKe9XUFS2K8E",
        "outputId": "6b07f1dd-59de-4ae2-d3cd-833f77b7e455"
      },
      "execution_count": 9,
      "outputs": [
        {
          "output_type": "execute_result",
          "data": {
            "text/plain": [
              "tensor([[5.],\n",
              "        [2.],\n",
              "        [3.],\n",
              "        [4.],\n",
              "        [5.],\n",
              "        [6.],\n",
              "        [7.],\n",
              "        [8.],\n",
              "        [9.]])"
            ]
          },
          "metadata": {},
          "execution_count": 9
        }
      ]
    },
    {
      "cell_type": "code",
      "source": [
        "#UNSQUEEZED\n",
        "X_UNSQUEZZED = X_SQUEEZED.unsqueeze(dim=0)"
      ],
      "metadata": {
        "id": "MJLJMk-L7fVH"
      },
      "execution_count": 10,
      "outputs": []
    },
    {
      "cell_type": "code",
      "source": [
        "X_UNSQUEZZED"
      ],
      "metadata": {
        "colab": {
          "base_uri": "https://localhost:8080/"
        },
        "id": "hHVekxgG7_fW",
        "outputId": "42116f96-0caa-4039-a24b-02b61e6f1c24"
      },
      "execution_count": 11,
      "outputs": [
        {
          "output_type": "execute_result",
          "data": {
            "text/plain": [
              "tensor([[[5.],\n",
              "         [2.],\n",
              "         [3.],\n",
              "         [4.],\n",
              "         [5.],\n",
              "         [6.],\n",
              "         [7.],\n",
              "         [8.],\n",
              "         [9.]]])"
            ]
          },
          "metadata": {},
          "execution_count": 11
        }
      ]
    },
    {
      "cell_type": "code",
      "source": [
        "x_orginal = torch.rand(size=(224,224,3))\n",
        "x_orginal"
      ],
      "metadata": {
        "colab": {
          "base_uri": "https://localhost:8080/"
        },
        "id": "kEIOCOtf8Kql",
        "outputId": "f8b846d2-b6ac-411b-f8e0-7869bdf44293"
      },
      "execution_count": 16,
      "outputs": [
        {
          "output_type": "execute_result",
          "data": {
            "text/plain": [
              "tensor([[[0.6490, 0.4198, 0.8509],\n",
              "         [0.4581, 0.4086, 0.6790],\n",
              "         [0.6227, 0.0492, 0.5334],\n",
              "         ...,\n",
              "         [0.4212, 0.7827, 0.5094],\n",
              "         [0.7171, 0.9617, 0.0836],\n",
              "         [0.2319, 0.2613, 0.3357]],\n",
              "\n",
              "        [[0.9398, 0.7505, 0.9614],\n",
              "         [0.2779, 0.6978, 0.1496],\n",
              "         [0.9128, 0.7160, 0.5821],\n",
              "         ...,\n",
              "         [0.7798, 0.7557, 0.4114],\n",
              "         [0.5270, 0.8772, 0.1015],\n",
              "         [0.2143, 0.3363, 0.8604]],\n",
              "\n",
              "        [[0.9604, 0.6221, 0.7542],\n",
              "         [0.7616, 0.1261, 0.5750],\n",
              "         [0.0625, 0.8300, 0.9599],\n",
              "         ...,\n",
              "         [0.9870, 0.5949, 0.4621],\n",
              "         [0.9022, 0.1223, 0.9132],\n",
              "         [0.9014, 0.6375, 0.8881]],\n",
              "\n",
              "        ...,\n",
              "\n",
              "        [[0.6122, 0.3103, 0.3745],\n",
              "         [0.4288, 0.8665, 0.6548],\n",
              "         [0.8271, 0.4082, 0.6308],\n",
              "         ...,\n",
              "         [0.1084, 0.7503, 0.5471],\n",
              "         [0.1339, 0.4356, 0.4944],\n",
              "         [0.3777, 0.9660, 0.9710]],\n",
              "\n",
              "        [[0.2165, 0.0415, 0.5815],\n",
              "         [0.5245, 0.8581, 0.6100],\n",
              "         [0.8070, 0.6069, 0.6573],\n",
              "         ...,\n",
              "         [0.8107, 0.7032, 0.1707],\n",
              "         [0.7246, 0.3244, 0.8741],\n",
              "         [0.8187, 0.6512, 0.4176]],\n",
              "\n",
              "        [[0.9014, 0.6056, 0.1476],\n",
              "         [0.9002, 0.4151, 0.2292],\n",
              "         [0.8195, 0.5345, 0.7028],\n",
              "         ...,\n",
              "         [0.4610, 0.3861, 0.9126],\n",
              "         [0.0087, 0.2913, 0.4476],\n",
              "         [0.9653, 0.9816, 0.2708]]])"
            ]
          },
          "metadata": {},
          "execution_count": 16
        }
      ]
    },
    {
      "cell_type": "code",
      "source": [
        "#permutethe orginal temsor\n",
        "x_permuted = x_orginal.permute(2,0,1)\n",
        "x_permuted"
      ],
      "metadata": {
        "colab": {
          "base_uri": "https://localhost:8080/"
        },
        "id": "Gg7-_pct-D4l",
        "outputId": "a05ee0e5-b4b6-46fe-9a58-eee755bb45ba"
      },
      "execution_count": 17,
      "outputs": [
        {
          "output_type": "execute_result",
          "data": {
            "text/plain": [
              "tensor([[[0.6490, 0.4581, 0.6227,  ..., 0.4212, 0.7171, 0.2319],\n",
              "         [0.9398, 0.2779, 0.9128,  ..., 0.7798, 0.5270, 0.2143],\n",
              "         [0.9604, 0.7616, 0.0625,  ..., 0.9870, 0.9022, 0.9014],\n",
              "         ...,\n",
              "         [0.6122, 0.4288, 0.8271,  ..., 0.1084, 0.1339, 0.3777],\n",
              "         [0.2165, 0.5245, 0.8070,  ..., 0.8107, 0.7246, 0.8187],\n",
              "         [0.9014, 0.9002, 0.8195,  ..., 0.4610, 0.0087, 0.9653]],\n",
              "\n",
              "        [[0.4198, 0.4086, 0.0492,  ..., 0.7827, 0.9617, 0.2613],\n",
              "         [0.7505, 0.6978, 0.7160,  ..., 0.7557, 0.8772, 0.3363],\n",
              "         [0.6221, 0.1261, 0.8300,  ..., 0.5949, 0.1223, 0.6375],\n",
              "         ...,\n",
              "         [0.3103, 0.8665, 0.4082,  ..., 0.7503, 0.4356, 0.9660],\n",
              "         [0.0415, 0.8581, 0.6069,  ..., 0.7032, 0.3244, 0.6512],\n",
              "         [0.6056, 0.4151, 0.5345,  ..., 0.3861, 0.2913, 0.9816]],\n",
              "\n",
              "        [[0.8509, 0.6790, 0.5334,  ..., 0.5094, 0.0836, 0.3357],\n",
              "         [0.9614, 0.1496, 0.5821,  ..., 0.4114, 0.1015, 0.8604],\n",
              "         [0.7542, 0.5750, 0.9599,  ..., 0.4621, 0.9132, 0.8881],\n",
              "         ...,\n",
              "         [0.3745, 0.6548, 0.6308,  ..., 0.5471, 0.4944, 0.9710],\n",
              "         [0.5815, 0.6100, 0.6573,  ..., 0.1707, 0.8741, 0.4176],\n",
              "         [0.1476, 0.2292, 0.7028,  ..., 0.9126, 0.4476, 0.2708]]])"
            ]
          },
          "metadata": {},
          "execution_count": 17
        }
      ]
    },
    {
      "cell_type": "code",
      "source": [],
      "metadata": {
        "id": "wGKB-flT-Yf6"
      },
      "execution_count": null,
      "outputs": []
    },
    {
      "cell_type": "markdown",
      "source": [
        "## indexing"
      ],
      "metadata": {
        "id": "GvqCsRYk_U75"
      }
    },
    {
      "cell_type": "code",
      "source": [],
      "metadata": {
        "id": "--KRNCv-_QX4"
      },
      "execution_count": null,
      "outputs": []
    }
  ]
}